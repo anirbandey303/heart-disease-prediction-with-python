{
 "cells": [
  {
   "cell_type": "code",
   "execution_count": 81,
   "metadata": {},
   "outputs": [
    {
     "name": "stdout",
     "output_type": "stream",
     "text": [
      "Python: 3.7.0 (default, Aug 14 2018, 19:12:50) [MSC v.1900 32 bit (Intel)]\n",
      "Numpy: 1.15.1\n",
      "Pandas: 0.23.4\n",
      "Matplotlib: 2.2.3\n",
      "Seaborn: 0.9.0\n"
     ]
    }
   ],
   "source": [
    "# Checking the versions of each package\n",
    "import sys\n",
    "import numpy\n",
    "import pandas\n",
    "import matplotlib\n",
    "import seaborn\n",
    "\n",
    "print('Python: {}'.format(sys.version))\n",
    "print('Numpy: {}'.format(numpy.__version__))\n",
    "print('Pandas: {}'.format(pandas.__version__))\n",
    "print('Matplotlib: {}'.format(matplotlib.__version__))\n",
    "print('Seaborn: {}'.format(seaborn.__version__))"
   ]
  },
  {
   "cell_type": "code",
   "execution_count": 82,
   "metadata": {},
   "outputs": [],
   "source": [
    "# Importing the necessary packages\n",
    "import numpy as np\n",
    "import pandas as pd\n",
    "import matplotlib.pyplot as plt\n",
    "import seaborn as sns\n",
    "from sklearn import preprocessing\n",
    "from sklearn.preprocessing import StandardScaler\n",
    "from sklearn.model_selection import train_test_split\n",
    "from sklearn.metrics import accuracy_score\n",
    "from sklearn.metrics import classification_report\n",
    "from sklearn.metrics import confusion_matrix"
   ]
  },
  {
   "cell_type": "code",
   "execution_count": 83,
   "metadata": {},
   "outputs": [],
   "source": [
    "# Loading the dataset from the csv file using pandas\n",
    "data_test = pd.read_csv('D:\\\\datasets\\\\HeartData\\\\test.csv')\n",
    "data_train = pd.read_csv('D:\\\\datasets\\\\HeartData\\\\train.csv')"
   ]
  },
  {
   "cell_type": "code",
   "execution_count": 84,
   "metadata": {},
   "outputs": [
    {
     "data": {
      "text/html": [
       "<div>\n",
       "<style scoped>\n",
       "    .dataframe tbody tr th:only-of-type {\n",
       "        vertical-align: middle;\n",
       "    }\n",
       "\n",
       "    .dataframe tbody tr th {\n",
       "        vertical-align: top;\n",
       "    }\n",
       "\n",
       "    .dataframe thead th {\n",
       "        text-align: right;\n",
       "    }\n",
       "</style>\n",
       "<table border=\"1\" class=\"dataframe\">\n",
       "  <thead>\n",
       "    <tr style=\"text-align: right;\">\n",
       "      <th></th>\n",
       "      <th>OVERALL_DIAGNOSIS</th>\n",
       "      <th>F1</th>\n",
       "      <th>F2</th>\n",
       "      <th>F3</th>\n",
       "      <th>F4</th>\n",
       "      <th>F5</th>\n",
       "      <th>F6</th>\n",
       "      <th>F7</th>\n",
       "      <th>F8</th>\n",
       "      <th>F9</th>\n",
       "      <th>...</th>\n",
       "      <th>F13</th>\n",
       "      <th>F14</th>\n",
       "      <th>F15</th>\n",
       "      <th>F16</th>\n",
       "      <th>F17</th>\n",
       "      <th>F18</th>\n",
       "      <th>F19</th>\n",
       "      <th>F20</th>\n",
       "      <th>F21</th>\n",
       "      <th>F22</th>\n",
       "    </tr>\n",
       "  </thead>\n",
       "  <tbody>\n",
       "    <tr>\n",
       "      <th>0</th>\n",
       "      <td>1</td>\n",
       "      <td>1</td>\n",
       "      <td>0</td>\n",
       "      <td>0</td>\n",
       "      <td>1</td>\n",
       "      <td>1</td>\n",
       "      <td>0</td>\n",
       "      <td>0</td>\n",
       "      <td>0</td>\n",
       "      <td>1</td>\n",
       "      <td>...</td>\n",
       "      <td>0</td>\n",
       "      <td>1</td>\n",
       "      <td>1</td>\n",
       "      <td>1</td>\n",
       "      <td>0</td>\n",
       "      <td>0</td>\n",
       "      <td>1</td>\n",
       "      <td>1</td>\n",
       "      <td>0</td>\n",
       "      <td>0</td>\n",
       "    </tr>\n",
       "    <tr>\n",
       "      <th>1</th>\n",
       "      <td>1</td>\n",
       "      <td>1</td>\n",
       "      <td>0</td>\n",
       "      <td>0</td>\n",
       "      <td>1</td>\n",
       "      <td>1</td>\n",
       "      <td>0</td>\n",
       "      <td>0</td>\n",
       "      <td>0</td>\n",
       "      <td>0</td>\n",
       "      <td>...</td>\n",
       "      <td>1</td>\n",
       "      <td>0</td>\n",
       "      <td>0</td>\n",
       "      <td>0</td>\n",
       "      <td>0</td>\n",
       "      <td>0</td>\n",
       "      <td>0</td>\n",
       "      <td>0</td>\n",
       "      <td>0</td>\n",
       "      <td>0</td>\n",
       "    </tr>\n",
       "    <tr>\n",
       "      <th>2</th>\n",
       "      <td>1</td>\n",
       "      <td>0</td>\n",
       "      <td>0</td>\n",
       "      <td>0</td>\n",
       "      <td>1</td>\n",
       "      <td>0</td>\n",
       "      <td>1</td>\n",
       "      <td>0</td>\n",
       "      <td>0</td>\n",
       "      <td>1</td>\n",
       "      <td>...</td>\n",
       "      <td>0</td>\n",
       "      <td>1</td>\n",
       "      <td>1</td>\n",
       "      <td>0</td>\n",
       "      <td>0</td>\n",
       "      <td>0</td>\n",
       "      <td>0</td>\n",
       "      <td>0</td>\n",
       "      <td>0</td>\n",
       "      <td>1</td>\n",
       "    </tr>\n",
       "    <tr>\n",
       "      <th>3</th>\n",
       "      <td>1</td>\n",
       "      <td>0</td>\n",
       "      <td>1</td>\n",
       "      <td>1</td>\n",
       "      <td>1</td>\n",
       "      <td>0</td>\n",
       "      <td>0</td>\n",
       "      <td>1</td>\n",
       "      <td>0</td>\n",
       "      <td>1</td>\n",
       "      <td>...</td>\n",
       "      <td>1</td>\n",
       "      <td>1</td>\n",
       "      <td>0</td>\n",
       "      <td>1</td>\n",
       "      <td>0</td>\n",
       "      <td>0</td>\n",
       "      <td>0</td>\n",
       "      <td>0</td>\n",
       "      <td>1</td>\n",
       "      <td>0</td>\n",
       "    </tr>\n",
       "    <tr>\n",
       "      <th>4</th>\n",
       "      <td>1</td>\n",
       "      <td>0</td>\n",
       "      <td>0</td>\n",
       "      <td>1</td>\n",
       "      <td>0</td>\n",
       "      <td>0</td>\n",
       "      <td>0</td>\n",
       "      <td>0</td>\n",
       "      <td>1</td>\n",
       "      <td>0</td>\n",
       "      <td>...</td>\n",
       "      <td>1</td>\n",
       "      <td>1</td>\n",
       "      <td>0</td>\n",
       "      <td>1</td>\n",
       "      <td>0</td>\n",
       "      <td>0</td>\n",
       "      <td>0</td>\n",
       "      <td>0</td>\n",
       "      <td>0</td>\n",
       "      <td>1</td>\n",
       "    </tr>\n",
       "  </tbody>\n",
       "</table>\n",
       "<p>5 rows × 23 columns</p>\n",
       "</div>"
      ],
      "text/plain": [
       "   OVERALL_DIAGNOSIS  F1  F2  F3  F4  F5  F6  F7  F8  F9 ...   F13  F14  F15  \\\n",
       "0                  1   1   0   0   1   1   0   0   0   1 ...     0    1    1   \n",
       "1                  1   1   0   0   1   1   0   0   0   0 ...     1    0    0   \n",
       "2                  1   0   0   0   1   0   1   0   0   1 ...     0    1    1   \n",
       "3                  1   0   1   1   1   0   0   1   0   1 ...     1    1    0   \n",
       "4                  1   0   0   1   0   0   0   0   1   0 ...     1    1    0   \n",
       "\n",
       "   F16  F17  F18  F19  F20  F21  F22  \n",
       "0    1    0    0    1    1    0    0  \n",
       "1    0    0    0    0    0    0    0  \n",
       "2    0    0    0    0    0    0    1  \n",
       "3    1    0    0    0    0    1    0  \n",
       "4    1    0    0    0    0    0    1  \n",
       "\n",
       "[5 rows x 23 columns]"
      ]
     },
     "execution_count": 84,
     "metadata": {},
     "output_type": "execute_result"
    }
   ],
   "source": [
    "data_test.head()"
   ]
  },
  {
   "cell_type": "code",
   "execution_count": 85,
   "metadata": {},
   "outputs": [
    {
     "name": "stdout",
     "output_type": "stream",
     "text": [
      "Index(['OVERALL_DIAGNOSIS', 'F1', 'F2', 'F3', 'F4', 'F5', 'F6', 'F7', 'F8',\n",
      "       'F9', 'F10', 'F11', 'F12', 'F13', 'F14', 'F15', 'F16', 'F17', 'F18',\n",
      "       'F19', 'F20', 'F21', 'F22'],\n",
      "      dtype='object')\n"
     ]
    }
   ],
   "source": [
    "# Starting to explore the dataset\n",
    "print(data_train.columns)"
   ]
  },
  {
   "cell_type": "code",
   "execution_count": 86,
   "metadata": {},
   "outputs": [
    {
     "name": "stdout",
     "output_type": "stream",
     "text": [
      "(80, 23)\n",
      "       OVERALL_DIAGNOSIS         F1         F2         F3         F4  \\\n",
      "count          80.000000  80.000000  80.000000  80.000000  80.000000   \n",
      "mean            0.500000   0.362500   0.162500   0.262500   0.212500   \n",
      "std             0.503155   0.483755   0.371236   0.442769   0.411658   \n",
      "min             0.000000   0.000000   0.000000   0.000000   0.000000   \n",
      "25%             0.000000   0.000000   0.000000   0.000000   0.000000   \n",
      "50%             0.500000   0.000000   0.000000   0.000000   0.000000   \n",
      "75%             1.000000   1.000000   0.000000   1.000000   0.000000   \n",
      "max             1.000000   1.000000   1.000000   1.000000   1.000000   \n",
      "\n",
      "              F5         F6         F7         F8         F9    ...     \\\n",
      "count  80.000000  80.000000  80.000000  80.000000  80.000000    ...      \n",
      "mean    0.300000   0.125000   0.262500   0.275000   0.187500    ...      \n",
      "std     0.461149   0.332805   0.442769   0.449331   0.392775    ...      \n",
      "min     0.000000   0.000000   0.000000   0.000000   0.000000    ...      \n",
      "25%     0.000000   0.000000   0.000000   0.000000   0.000000    ...      \n",
      "50%     0.000000   0.000000   0.000000   0.000000   0.000000    ...      \n",
      "75%     1.000000   0.000000   1.000000   1.000000   0.000000    ...      \n",
      "max     1.000000   1.000000   1.000000   1.000000   1.000000    ...      \n",
      "\n",
      "             F13        F14        F15        F16        F17        F18  \\\n",
      "count  80.000000  80.000000  80.000000  80.000000  80.000000  80.000000   \n",
      "mean    0.350000   0.200000   0.075000   0.175000   0.100000   0.075000   \n",
      "std     0.479979   0.402524   0.265053   0.382364   0.301893   0.265053   \n",
      "min     0.000000   0.000000   0.000000   0.000000   0.000000   0.000000   \n",
      "25%     0.000000   0.000000   0.000000   0.000000   0.000000   0.000000   \n",
      "50%     0.000000   0.000000   0.000000   0.000000   0.000000   0.000000   \n",
      "75%     1.000000   0.000000   0.000000   0.000000   0.000000   0.000000   \n",
      "max     1.000000   1.000000   1.000000   1.000000   1.000000   1.000000   \n",
      "\n",
      "             F19        F20        F21       F22  \n",
      "count  80.000000  80.000000  80.000000  80.00000  \n",
      "mean    0.187500   0.225000   0.237500   0.32500  \n",
      "std     0.392775   0.420217   0.428236   0.47133  \n",
      "min     0.000000   0.000000   0.000000   0.00000  \n",
      "25%     0.000000   0.000000   0.000000   0.00000  \n",
      "50%     0.000000   0.000000   0.000000   0.00000  \n",
      "75%     0.000000   0.000000   0.000000   1.00000  \n",
      "max     1.000000   1.000000   1.000000   1.00000  \n",
      "\n",
      "[8 rows x 23 columns]\n"
     ]
    }
   ],
   "source": [
    "# Printing the shape of the data\n",
    "print(data_train.shape)\n",
    "print(data_train.describe())"
   ]
  },
  {
   "cell_type": "code",
   "execution_count": 87,
   "metadata": {},
   "outputs": [
    {
     "data": {
      "image/png": "[encoded data removed]",
      "text/plain": [
       "<Figure size 1440x1440 with 25 Axes>"
      ]
     },
     "metadata": {
      "needs_background": "light"
     },
     "output_type": "display_data"
    }
   ],
   "source": [
    "# Plotting histograms of each parameter \n",
    "data_train.hist(figsize = (20, 20))\n",
    "plt.show()"
   ]
  },
  {
   "cell_type": "code",
   "execution_count": 88,
   "metadata": {},
   "outputs": [
    {
     "name": "stdout",
     "output_type": "stream",
     "text": [
      "1.0\n",
      "Heart Disease Present Cases: 40\n",
      "Heart Disease Absent Casess: 40\n"
     ]
    }
   ],
   "source": [
    "# Determine number of cases where disease is present and not present\n",
    "\n",
    "Present = data_train[data_train['OVERALL_DIAGNOSIS'] == 1]\n",
    "Absent = data_train[data_train['OVERALL_DIAGNOSIS'] == 0]\n",
    "\n",
    "outlier_fraction = len(Absent)/float(len(Present))\n",
    "print(outlier_fraction)\n",
    "\n",
    "print('Heart Disease Present Cases: {}'.format(len(data_train[data_train['OVERALL_DIAGNOSIS'] == 1])))\n",
    "print('Heart Disease Absent Casess: {}'.format(len(data_train[data_train['OVERALL_DIAGNOSIS'] == 0])))\n"
   ]
  },
  {
   "cell_type": "code",
   "execution_count": 89,
   "metadata": {},
   "outputs": [
    {
     "data": {
      "image/png": "[encoded data removed]",
      "text/plain": [
       "<Figure size 864x648 with 2 Axes>"
      ]
     },
     "metadata": {
      "needs_background": "light"
     },
     "output_type": "display_data"
    }
   ],
   "source": [
    "# Correlation matrix\n",
    "corrmat = data_train.corr()\n",
    "fig = plt.figure(figsize = (12, 9))\n",
    "\n",
    "sns.heatmap(corrmat, vmax = .8, square = True)\n",
    "plt.show()"
   ]
  },
  {
   "cell_type": "code",
   "execution_count": 90,
   "metadata": {},
   "outputs": [
    {
     "data": {
      "text/plain": [
       "OVERALL_DIAGNOSIS    0\n",
       "F1                   0\n",
       "F2                   0\n",
       "F3                   0\n",
       "F4                   0\n",
       "F5                   0\n",
       "F6                   0\n",
       "F7                   0\n",
       "F8                   0\n",
       "F9                   0\n",
       "F10                  0\n",
       "F11                  0\n",
       "F12                  0\n",
       "F13                  0\n",
       "F14                  0\n",
       "F15                  0\n",
       "F16                  0\n",
       "F17                  0\n",
       "F18                  0\n",
       "F19                  0\n",
       "F20                  0\n",
       "F21                  0\n",
       "F22                  0\n",
       "dtype: int64"
      ]
     },
     "execution_count": 90,
     "metadata": {},
     "output_type": "execute_result"
    }
   ],
   "source": [
    "# Checking for null values within dataset\n",
    "\n",
    "data_train.isnull().sum()"
   ]
  },
  {
   "cell_type": "code",
   "execution_count": 93,
   "metadata": {},
   "outputs": [],
   "source": [
    "# Seperating X (data) & Y (target)\n",
    "x_train = data_train.iloc[:,1:].values\n",
    "y_train = data_train.iloc[:,0].values\n",
    "x_test = data_test.iloc[:,1:].values\n",
    "y_test = data_test.iloc[:,0].values"
   ]
  },
  {
   "cell_type": "code",
   "execution_count": 94,
   "metadata": {},
   "outputs": [
    {
     "data": {
      "text/plain": [
       "RandomForestClassifier(bootstrap=True, class_weight=None, criterion='entropy',\n",
       "            max_depth=None, max_features='auto', max_leaf_nodes=None,\n",
       "            min_impurity_decrease=0.0, min_impurity_split=None,\n",
       "            min_samples_leaf=1, min_samples_split=0.05,\n",
       "            min_weight_fraction_leaf=0.0, n_estimators=13, n_jobs=1,\n",
       "            oob_score=False, random_state=45, verbose=0, warm_start=False)"
      ]
     },
     "execution_count": 94,
     "metadata": {},
     "output_type": "execute_result"
    }
   ],
   "source": [
    "#Importing Random Forest Classifier\n",
    "from sklearn.ensemble import RandomForestClassifier\n",
    "\n",
    "#Applying The Random Forest Classifier on the train dataset\n",
    "clf_forest = RandomForestClassifier(criterion=\"entropy\", n_estimators=13, random_state=45, min_samples_split=.05)\n",
    "clf_forest.fit(x_train, y_train)"
   ]
  },
  {
   "cell_type": "code",
   "execution_count": 95,
   "metadata": {},
   "outputs": [],
   "source": [
    "y_pred_rf = clf_forest.predict(x_test)"
   ]
  },
  {
   "cell_type": "code",
   "execution_count": 96,
   "metadata": {},
   "outputs": [
    {
     "data": {
      "text/plain": [
       "0.7914438502673797"
      ]
     },
     "execution_count": 96,
     "metadata": {},
     "output_type": "execute_result"
    }
   ],
   "source": [
    "accuracy_score(y_test, y_pred_rf)"
   ]
  },
  {
   "cell_type": "code",
   "execution_count": 97,
   "metadata": {},
   "outputs": [
    {
     "name": "stdout",
     "output_type": "stream",
     "text": [
      "[[ 12   3]\n",
      " [ 36 136]]\n",
      "             precision    recall  f1-score   support\n",
      "\n",
      "          0       0.25      0.80      0.38        15\n",
      "          1       0.98      0.79      0.87       172\n",
      "\n",
      "avg / total       0.92      0.79      0.84       187\n",
      "\n"
     ]
    }
   ],
   "source": [
    "print(confusion_matrix(y_test,y_pred_rf))\n",
    "print(classification_report(y_test, y_pred_rf))"
   ]
  },
  {
   "cell_type": "code",
   "execution_count": 72,
   "metadata": {},
   "outputs": [
    {
     "data": {
      "text/plain": [
       "<matplotlib.axes._subplots.AxesSubplot at 0x98e6650>"
      ]
     },
     "execution_count": 72,
     "metadata": {},
     "output_type": "execute_result"
    },
    {
     "data": {
      "image/png": "[encoded data removed]",
      "text/plain": [
       "<Figure size 432x288 with 2 Axes>"
      ]
     },
     "metadata": {
      "needs_background": "light"
     },
     "output_type": "display_data"
    }
   ],
   "source": [
    "cm = pd.DataFrame(confusion_matrix)\n",
    "sns.heatmap(cm,annot=True,fmt=\"d\")"
   ]
  },
  {
   "cell_type": "code",
   "execution_count": 110,
   "metadata": {},
   "outputs": [
    {
     "data": {
      "text/plain": [
       "KNeighborsClassifier(algorithm='auto', leaf_size=30, metric='minkowski',\n",
       "           metric_params=None, n_jobs=1, n_neighbors=5, p=2,\n",
       "           weights='uniform')"
      ]
     },
     "execution_count": 110,
     "metadata": {},
     "output_type": "execute_result"
    }
   ],
   "source": [
    "#Importing Knn Classifier\n",
    "from sklearn.neighbors import KNeighborsClassifier\n",
    "\n",
    "#Applying the Knn Classifier on the dataset\n",
    "classifier = KNeighborsClassifier(n_neighbors= 5)\n",
    "classifier.fit(x_train,y_train)"
   ]
  },
  {
   "cell_type": "code",
   "execution_count": 111,
   "metadata": {},
   "outputs": [],
   "source": [
    "y_pred_kn = classifier.predict(x_test)\n",
    "from sklearn.metrics import accuracy_score"
   ]
  },
  {
   "cell_type": "code",
   "execution_count": 112,
   "metadata": {},
   "outputs": [
    {
     "data": {
      "text/plain": [
       "0.7219251336898396"
      ]
     },
     "execution_count": 112,
     "metadata": {},
     "output_type": "execute_result"
    }
   ],
   "source": [
    "accuracy_score(y_test,y_pred_kn)"
   ]
  },
  {
   "cell_type": "code",
   "execution_count": 113,
   "metadata": {},
   "outputs": [
    {
     "name": "stdout",
     "output_type": "stream",
     "text": [
      "[[ 14   1]\n",
      " [ 51 121]]\n",
      "             precision    recall  f1-score   support\n",
      "\n",
      "          0       0.22      0.93      0.35        15\n",
      "          1       0.99      0.70      0.82       172\n",
      "\n",
      "avg / total       0.93      0.72      0.79       187\n",
      "\n"
     ]
    }
   ],
   "source": [
    "print(confusion_matrix(y_test,y_pred_kn))\n",
    "print(classification_report(y_test, y_pred_kn))"
   ]
  },
  {
   "cell_type": "code",
   "execution_count": 103,
   "metadata": {},
   "outputs": [],
   "source": [
    "# Finding the best value of K\n",
    "error = []\n",
    "\n",
    "for i in range(3,50,2):\n",
    "    Knn = KNeighborsClassifier(n_neighbors=i)\n",
    "    Knn.fit(x_train,y_train)\n",
    "    pred_y_test = Knn.predict(x_test)\n",
    "    error.append(np.mean(pred_y_test != y_test))"
   ]
  },
  {
   "cell_type": "code",
   "execution_count": 106,
   "metadata": {},
   "outputs": [
    {
     "data": {
      "text/plain": [
       "Text(0,0.5,'Mean Value of Error')"
      ]
     },
     "execution_count": 106,
     "metadata": {},
     "output_type": "execute_result"
    },
    {
     "data": {
      "image/png": "[encoded data removed]",
      "text/plain": [
       "<Figure size 432x288 with 1 Axes>"
      ]
     },
     "metadata": {
      "needs_background": "light"
     },
     "output_type": "display_data"
    }
   ],
   "source": [
    "plt.plot(range(3,50,2),error,color=\"red\", linestyle='dashed', marker=\"o\",markerfacecolor='blue')\n",
    "plt.title(\"Finding best K value range\")\n",
    "plt.xlabel(\"Value of K\")\n",
    "plt.ylabel(\"Mean Value of Error\")"
   ]
  },
  {
   "cell_type": "code",
   "execution_count": 135,
   "metadata": {},
   "outputs": [],
   "source": [
    "#Importing Support Vector Machine Package\n",
    "\n",
    "from sklearn import svm\n",
    "\n",
    "svc = svm.SVC(kernel='rbf',C=1,gamma=1).fit(x_train, y_train)"
   ]
  },
  {
   "cell_type": "code",
   "execution_count": 136,
   "metadata": {},
   "outputs": [],
   "source": [
    "predicted = svc.predict(x_test)"
   ]
  },
  {
   "cell_type": "code",
   "execution_count": 137,
   "metadata": {},
   "outputs": [
    {
     "data": {
      "text/plain": [
       "0.8502673796791443"
      ]
     },
     "execution_count": 137,
     "metadata": {},
     "output_type": "execute_result"
    }
   ],
   "source": [
    "accuracy_score(y_test,predicted)"
   ]
  },
  {
   "cell_type": "code",
   "execution_count": 161,
   "metadata": {},
   "outputs": [
    {
     "name": "stdout",
     "output_type": "stream",
     "text": [
      "[[  8   7]\n",
      " [ 21 151]]\n",
      "             precision    recall  f1-score   support\n",
      "\n",
      "          0       0.28      0.53      0.36        15\n",
      "          1       0.96      0.88      0.92       172\n",
      "\n",
      "avg / total       0.90      0.85      0.87       187\n",
      "\n"
     ]
    }
   ],
   "source": [
    "from sklearn.metrics import classification_report\n",
    "from sklearn.metrics import confusion_matrix\n",
    "print(confusion_matrix(y_test,predicted))\n",
    "print(classification_report(y_test, predicted))"
   ]
  },
  {
   "cell_type": "code",
   "execution_count": 164,
   "metadata": {},
   "outputs": [
    {
     "data": {
      "text/plain": [
       "<matplotlib.axes._subplots.AxesSubplot at 0xac05df0>"
      ]
     },
     "execution_count": 164,
     "metadata": {},
     "output_type": "execute_result"
    },
    {
     "data": {
      "image/png": "[encoded data removed]",
      "text/plain": [
       "<Figure size 432x288 with 2 Axes>"
      ]
     },
     "metadata": {
      "needs_background": "light"
     },
     "output_type": "display_data"
    }
   ],
   "source": [
    "xdc = confusion_matrix(y_test,predicted)\n",
    "cm = pd.DataFrame(xdc)\n",
    "sns.heatmap(cm,annot=True,fmt=\"d\")"
   ]
  },
  {
   "cell_type": "code",
   "execution_count": null,
   "metadata": {},
   "outputs": [],
   "source": []
  }
 ],
 "metadata": {
  "kernelspec": {
   "display_name": "Python 3",
   "language": "python",
   "name": "python3"
  },
  "language_info": {
   "codemirror_mode": {
    "name": "ipython",
    "version": 3
   },
   "file_extension": ".py",
   "mimetype": "text/x-python",
   "name": "python",
   "nbconvert_exporter": "python",
   "pygments_lexer": "ipython3",
   "version": "3.7.0"
  }
 },
 "nbformat": 4,
 "nbformat_minor": 2
}
